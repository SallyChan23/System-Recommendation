{
 "cells": [
  {
   "cell_type": "markdown",
   "metadata": {},
   "source": [
    "# Import Library"
   ]
  },
  {
   "cell_type": "markdown",
   "metadata": {},
   "source": [
    "Mengimport library yang diperlukan seperti pandas, dll"
   ]
  },
  {
   "cell_type": "code",
   "execution_count": 21,
   "metadata": {
    "execution": {
     "iopub.execute_input": "2025-05-07T04:27:15.723716Z",
     "iopub.status.busy": "2025-05-07T04:27:15.723214Z",
     "iopub.status.idle": "2025-05-07T04:27:15.866286Z",
     "shell.execute_reply": "2025-05-07T04:27:15.865721Z",
     "shell.execute_reply.started": "2025-05-07T04:27:15.723691Z"
    },
    "trusted": true
   },
   "outputs": [],
   "source": [
    "import pandas as pd\n",
    "import numpy as np\n",
    "import matplotlib.pyplot as plt\n",
    "import seaborn as sns\n",
    "from sklearn.feature_extraction.text import TfidfVectorizer\n",
    "from sklearn.metrics.pairwise import cosine_similarity\n",
    "from sklearn.preprocessing import MinMaxScaler\n",
    "import warnings\n",
    "from sklearn.decomposition import PCA\n",
    "warnings.filterwarnings('ignore')"
   ]
  },
  {
   "cell_type": "markdown",
   "metadata": {},
   "source": [
    "Insight: \n",
    "* Import Library yang diperlukan "
   ]
  },
  {
   "cell_type": "markdown",
   "metadata": {},
   "source": [
    "# Load Dataset"
   ]
  },
  {
   "cell_type": "markdown",
   "metadata": {},
   "source": [
    "Memanggil dataset (spotify dataset) yang akan digunakan dengan menggunakan fungsi pandas"
   ]
  },
  {
   "cell_type": "code",
   "execution_count": 2,
   "metadata": {
    "execution": {
     "iopub.execute_input": "2025-05-07T04:10:30.417311Z",
     "iopub.status.busy": "2025-05-07T04:10:30.416902Z",
     "iopub.status.idle": "2025-05-07T04:10:31.349457Z",
     "shell.execute_reply": "2025-05-07T04:10:31.348750Z",
     "shell.execute_reply.started": "2025-05-07T04:10:30.417287Z"
    },
    "trusted": true
   },
   "outputs": [
    {
     "data": {
      "text/html": [
       "<div>\n",
       "<style scoped>\n",
       "    .dataframe tbody tr th:only-of-type {\n",
       "        vertical-align: middle;\n",
       "    }\n",
       "\n",
       "    .dataframe tbody tr th {\n",
       "        vertical-align: top;\n",
       "    }\n",
       "\n",
       "    .dataframe thead th {\n",
       "        text-align: right;\n",
       "    }\n",
       "</style>\n",
       "<table border=\"1\" class=\"dataframe\">\n",
       "  <thead>\n",
       "    <tr style=\"text-align: right;\">\n",
       "      <th></th>\n",
       "      <th>valence</th>\n",
       "      <th>year</th>\n",
       "      <th>acousticness</th>\n",
       "      <th>artists</th>\n",
       "      <th>danceability</th>\n",
       "      <th>duration_ms</th>\n",
       "      <th>energy</th>\n",
       "      <th>explicit</th>\n",
       "      <th>id</th>\n",
       "      <th>instrumentalness</th>\n",
       "      <th>key</th>\n",
       "      <th>liveness</th>\n",
       "      <th>loudness</th>\n",
       "      <th>mode</th>\n",
       "      <th>name</th>\n",
       "      <th>popularity</th>\n",
       "      <th>release_date</th>\n",
       "      <th>speechiness</th>\n",
       "      <th>tempo</th>\n",
       "    </tr>\n",
       "  </thead>\n",
       "  <tbody>\n",
       "    <tr>\n",
       "      <th>0</th>\n",
       "      <td>0.0594</td>\n",
       "      <td>1921</td>\n",
       "      <td>0.982</td>\n",
       "      <td>['Sergei Rachmaninoff', 'James Levine', 'Berli...</td>\n",
       "      <td>0.279</td>\n",
       "      <td>831667</td>\n",
       "      <td>0.211</td>\n",
       "      <td>0</td>\n",
       "      <td>4BJqT0PrAfrxzMOxytFOIz</td>\n",
       "      <td>0.878000</td>\n",
       "      <td>10</td>\n",
       "      <td>0.665</td>\n",
       "      <td>-20.096</td>\n",
       "      <td>1</td>\n",
       "      <td>Piano Concerto No. 3 in D Minor, Op. 30: III. ...</td>\n",
       "      <td>4</td>\n",
       "      <td>1921</td>\n",
       "      <td>0.0366</td>\n",
       "      <td>80.954</td>\n",
       "    </tr>\n",
       "    <tr>\n",
       "      <th>1</th>\n",
       "      <td>0.9630</td>\n",
       "      <td>1921</td>\n",
       "      <td>0.732</td>\n",
       "      <td>['Dennis Day']</td>\n",
       "      <td>0.819</td>\n",
       "      <td>180533</td>\n",
       "      <td>0.341</td>\n",
       "      <td>0</td>\n",
       "      <td>7xPhfUan2yNtyFG0cUWkt8</td>\n",
       "      <td>0.000000</td>\n",
       "      <td>7</td>\n",
       "      <td>0.160</td>\n",
       "      <td>-12.441</td>\n",
       "      <td>1</td>\n",
       "      <td>Clancy Lowered the Boom</td>\n",
       "      <td>5</td>\n",
       "      <td>1921</td>\n",
       "      <td>0.4150</td>\n",
       "      <td>60.936</td>\n",
       "    </tr>\n",
       "    <tr>\n",
       "      <th>2</th>\n",
       "      <td>0.0394</td>\n",
       "      <td>1921</td>\n",
       "      <td>0.961</td>\n",
       "      <td>['KHP Kridhamardawa Karaton Ngayogyakarta Hadi...</td>\n",
       "      <td>0.328</td>\n",
       "      <td>500062</td>\n",
       "      <td>0.166</td>\n",
       "      <td>0</td>\n",
       "      <td>1o6I8BglA6ylDMrIELygv1</td>\n",
       "      <td>0.913000</td>\n",
       "      <td>3</td>\n",
       "      <td>0.101</td>\n",
       "      <td>-14.850</td>\n",
       "      <td>1</td>\n",
       "      <td>Gati Bali</td>\n",
       "      <td>5</td>\n",
       "      <td>1921</td>\n",
       "      <td>0.0339</td>\n",
       "      <td>110.339</td>\n",
       "    </tr>\n",
       "    <tr>\n",
       "      <th>3</th>\n",
       "      <td>0.1650</td>\n",
       "      <td>1921</td>\n",
       "      <td>0.967</td>\n",
       "      <td>['Frank Parker']</td>\n",
       "      <td>0.275</td>\n",
       "      <td>210000</td>\n",
       "      <td>0.309</td>\n",
       "      <td>0</td>\n",
       "      <td>3ftBPsC5vPBKxYSee08FDH</td>\n",
       "      <td>0.000028</td>\n",
       "      <td>5</td>\n",
       "      <td>0.381</td>\n",
       "      <td>-9.316</td>\n",
       "      <td>1</td>\n",
       "      <td>Danny Boy</td>\n",
       "      <td>3</td>\n",
       "      <td>1921</td>\n",
       "      <td>0.0354</td>\n",
       "      <td>100.109</td>\n",
       "    </tr>\n",
       "    <tr>\n",
       "      <th>4</th>\n",
       "      <td>0.2530</td>\n",
       "      <td>1921</td>\n",
       "      <td>0.957</td>\n",
       "      <td>['Phil Regan']</td>\n",
       "      <td>0.418</td>\n",
       "      <td>166693</td>\n",
       "      <td>0.193</td>\n",
       "      <td>0</td>\n",
       "      <td>4d6HGyGT8e121BsdKmw9v6</td>\n",
       "      <td>0.000002</td>\n",
       "      <td>3</td>\n",
       "      <td>0.229</td>\n",
       "      <td>-10.096</td>\n",
       "      <td>1</td>\n",
       "      <td>When Irish Eyes Are Smiling</td>\n",
       "      <td>2</td>\n",
       "      <td>1921</td>\n",
       "      <td>0.0380</td>\n",
       "      <td>101.665</td>\n",
       "    </tr>\n",
       "  </tbody>\n",
       "</table>\n",
       "</div>"
      ],
      "text/plain": [
       "   valence  year  acousticness  \\\n",
       "0   0.0594  1921         0.982   \n",
       "1   0.9630  1921         0.732   \n",
       "2   0.0394  1921         0.961   \n",
       "3   0.1650  1921         0.967   \n",
       "4   0.2530  1921         0.957   \n",
       "\n",
       "                                             artists  danceability  \\\n",
       "0  ['Sergei Rachmaninoff', 'James Levine', 'Berli...         0.279   \n",
       "1                                     ['Dennis Day']         0.819   \n",
       "2  ['KHP Kridhamardawa Karaton Ngayogyakarta Hadi...         0.328   \n",
       "3                                   ['Frank Parker']         0.275   \n",
       "4                                     ['Phil Regan']         0.418   \n",
       "\n",
       "   duration_ms  energy  explicit                      id  instrumentalness  \\\n",
       "0       831667   0.211         0  4BJqT0PrAfrxzMOxytFOIz          0.878000   \n",
       "1       180533   0.341         0  7xPhfUan2yNtyFG0cUWkt8          0.000000   \n",
       "2       500062   0.166         0  1o6I8BglA6ylDMrIELygv1          0.913000   \n",
       "3       210000   0.309         0  3ftBPsC5vPBKxYSee08FDH          0.000028   \n",
       "4       166693   0.193         0  4d6HGyGT8e121BsdKmw9v6          0.000002   \n",
       "\n",
       "   key  liveness  loudness  mode  \\\n",
       "0   10     0.665   -20.096     1   \n",
       "1    7     0.160   -12.441     1   \n",
       "2    3     0.101   -14.850     1   \n",
       "3    5     0.381    -9.316     1   \n",
       "4    3     0.229   -10.096     1   \n",
       "\n",
       "                                                name  popularity release_date  \\\n",
       "0  Piano Concerto No. 3 in D Minor, Op. 30: III. ...           4         1921   \n",
       "1                            Clancy Lowered the Boom           5         1921   \n",
       "2                                          Gati Bali           5         1921   \n",
       "3                                          Danny Boy           3         1921   \n",
       "4                        When Irish Eyes Are Smiling           2         1921   \n",
       "\n",
       "   speechiness    tempo  \n",
       "0       0.0366   80.954  \n",
       "1       0.4150   60.936  \n",
       "2       0.0339  110.339  \n",
       "3       0.0354  100.109  \n",
       "4       0.0380  101.665  "
      ]
     },
     "execution_count": 2,
     "metadata": {},
     "output_type": "execute_result"
    }
   ],
   "source": [
    "df = pd.read_csv('/kaggle/input/spotify-dataset-1921-2020-160k-tracks/data.csv')\n",
    "df.head()"
   ]
  },
  {
   "cell_type": "markdown",
   "metadata": {},
   "source": [
    "Insight:\n",
    "* Terdapat beberapa kolom dalam dataset ini.\n",
    "* Tidak terdapat missing value pada kolom-kolom awal berdasarkan `df.head()`, tetapi perlu divalidasi lebih lanjut secara keseluruhan."
   ]
  },
  {
   "cell_type": "markdown",
   "metadata": {},
   "source": [
    "# EDA (Exploratory Data Analysis)"
   ]
  },
  {
   "cell_type": "markdown",
   "metadata": {},
   "source": [
    "Mengenal data lebih dalam dengan beberapa function yang ada seperti df.info() dan lain-lain"
   ]
  },
  {
   "cell_type": "code",
   "execution_count": 3,
   "metadata": {
    "execution": {
     "iopub.execute_input": "2025-05-07T04:10:31.350501Z",
     "iopub.status.busy": "2025-05-07T04:10:31.350261Z",
     "iopub.status.idle": "2025-05-07T04:10:31.526772Z",
     "shell.execute_reply": "2025-05-07T04:10:31.526051Z",
     "shell.execute_reply.started": "2025-05-07T04:10:31.350484Z"
    },
    "trusted": true
   },
   "outputs": [
    {
     "name": "stdout",
     "output_type": "stream",
     "text": [
      "<class 'pandas.core.frame.DataFrame'>\n",
      "RangeIndex: 170653 entries, 0 to 170652\n",
      "Data columns (total 19 columns):\n",
      " #   Column            Non-Null Count   Dtype  \n",
      "---  ------            --------------   -----  \n",
      " 0   valence           170653 non-null  float64\n",
      " 1   year              170653 non-null  int64  \n",
      " 2   acousticness      170653 non-null  float64\n",
      " 3   artists           170653 non-null  object \n",
      " 4   danceability      170653 non-null  float64\n",
      " 5   duration_ms       170653 non-null  int64  \n",
      " 6   energy            170653 non-null  float64\n",
      " 7   explicit          170653 non-null  int64  \n",
      " 8   id                170653 non-null  object \n",
      " 9   instrumentalness  170653 non-null  float64\n",
      " 10  key               170653 non-null  int64  \n",
      " 11  liveness          170653 non-null  float64\n",
      " 12  loudness          170653 non-null  float64\n",
      " 13  mode              170653 non-null  int64  \n",
      " 14  name              170653 non-null  object \n",
      " 15  popularity        170653 non-null  int64  \n",
      " 16  release_date      170653 non-null  object \n",
      " 17  speechiness       170653 non-null  float64\n",
      " 18  tempo             170653 non-null  float64\n",
      "dtypes: float64(9), int64(6), object(4)\n",
      "memory usage: 24.7+ MB\n"
     ]
    },
    {
     "data": {
      "text/html": [
       "<div>\n",
       "<style scoped>\n",
       "    .dataframe tbody tr th:only-of-type {\n",
       "        vertical-align: middle;\n",
       "    }\n",
       "\n",
       "    .dataframe tbody tr th {\n",
       "        vertical-align: top;\n",
       "    }\n",
       "\n",
       "    .dataframe thead th {\n",
       "        text-align: right;\n",
       "    }\n",
       "</style>\n",
       "<table border=\"1\" class=\"dataframe\">\n",
       "  <thead>\n",
       "    <tr style=\"text-align: right;\">\n",
       "      <th></th>\n",
       "      <th>valence</th>\n",
       "      <th>year</th>\n",
       "      <th>acousticness</th>\n",
       "      <th>danceability</th>\n",
       "      <th>duration_ms</th>\n",
       "      <th>energy</th>\n",
       "      <th>explicit</th>\n",
       "      <th>instrumentalness</th>\n",
       "      <th>key</th>\n",
       "      <th>liveness</th>\n",
       "      <th>loudness</th>\n",
       "      <th>mode</th>\n",
       "      <th>popularity</th>\n",
       "      <th>speechiness</th>\n",
       "      <th>tempo</th>\n",
       "    </tr>\n",
       "  </thead>\n",
       "  <tbody>\n",
       "    <tr>\n",
       "      <th>count</th>\n",
       "      <td>170653.000000</td>\n",
       "      <td>170653.000000</td>\n",
       "      <td>170653.000000</td>\n",
       "      <td>170653.000000</td>\n",
       "      <td>1.706530e+05</td>\n",
       "      <td>170653.000000</td>\n",
       "      <td>170653.000000</td>\n",
       "      <td>170653.000000</td>\n",
       "      <td>170653.000000</td>\n",
       "      <td>170653.000000</td>\n",
       "      <td>170653.000000</td>\n",
       "      <td>170653.000000</td>\n",
       "      <td>170653.000000</td>\n",
       "      <td>170653.000000</td>\n",
       "      <td>170653.000000</td>\n",
       "    </tr>\n",
       "    <tr>\n",
       "      <th>mean</th>\n",
       "      <td>0.528587</td>\n",
       "      <td>1976.787241</td>\n",
       "      <td>0.502115</td>\n",
       "      <td>0.537396</td>\n",
       "      <td>2.309483e+05</td>\n",
       "      <td>0.482389</td>\n",
       "      <td>0.084575</td>\n",
       "      <td>0.167010</td>\n",
       "      <td>5.199844</td>\n",
       "      <td>0.205839</td>\n",
       "      <td>-11.467990</td>\n",
       "      <td>0.706902</td>\n",
       "      <td>31.431794</td>\n",
       "      <td>0.098393</td>\n",
       "      <td>116.861590</td>\n",
       "    </tr>\n",
       "    <tr>\n",
       "      <th>std</th>\n",
       "      <td>0.263171</td>\n",
       "      <td>25.917853</td>\n",
       "      <td>0.376032</td>\n",
       "      <td>0.176138</td>\n",
       "      <td>1.261184e+05</td>\n",
       "      <td>0.267646</td>\n",
       "      <td>0.278249</td>\n",
       "      <td>0.313475</td>\n",
       "      <td>3.515094</td>\n",
       "      <td>0.174805</td>\n",
       "      <td>5.697943</td>\n",
       "      <td>0.455184</td>\n",
       "      <td>21.826615</td>\n",
       "      <td>0.162740</td>\n",
       "      <td>30.708533</td>\n",
       "    </tr>\n",
       "    <tr>\n",
       "      <th>min</th>\n",
       "      <td>0.000000</td>\n",
       "      <td>1921.000000</td>\n",
       "      <td>0.000000</td>\n",
       "      <td>0.000000</td>\n",
       "      <td>5.108000e+03</td>\n",
       "      <td>0.000000</td>\n",
       "      <td>0.000000</td>\n",
       "      <td>0.000000</td>\n",
       "      <td>0.000000</td>\n",
       "      <td>0.000000</td>\n",
       "      <td>-60.000000</td>\n",
       "      <td>0.000000</td>\n",
       "      <td>0.000000</td>\n",
       "      <td>0.000000</td>\n",
       "      <td>0.000000</td>\n",
       "    </tr>\n",
       "    <tr>\n",
       "      <th>25%</th>\n",
       "      <td>0.317000</td>\n",
       "      <td>1956.000000</td>\n",
       "      <td>0.102000</td>\n",
       "      <td>0.415000</td>\n",
       "      <td>1.698270e+05</td>\n",
       "      <td>0.255000</td>\n",
       "      <td>0.000000</td>\n",
       "      <td>0.000000</td>\n",
       "      <td>2.000000</td>\n",
       "      <td>0.098800</td>\n",
       "      <td>-14.615000</td>\n",
       "      <td>0.000000</td>\n",
       "      <td>11.000000</td>\n",
       "      <td>0.034900</td>\n",
       "      <td>93.421000</td>\n",
       "    </tr>\n",
       "    <tr>\n",
       "      <th>50%</th>\n",
       "      <td>0.540000</td>\n",
       "      <td>1977.000000</td>\n",
       "      <td>0.516000</td>\n",
       "      <td>0.548000</td>\n",
       "      <td>2.074670e+05</td>\n",
       "      <td>0.471000</td>\n",
       "      <td>0.000000</td>\n",
       "      <td>0.000216</td>\n",
       "      <td>5.000000</td>\n",
       "      <td>0.136000</td>\n",
       "      <td>-10.580000</td>\n",
       "      <td>1.000000</td>\n",
       "      <td>33.000000</td>\n",
       "      <td>0.045000</td>\n",
       "      <td>114.729000</td>\n",
       "    </tr>\n",
       "    <tr>\n",
       "      <th>75%</th>\n",
       "      <td>0.747000</td>\n",
       "      <td>1999.000000</td>\n",
       "      <td>0.893000</td>\n",
       "      <td>0.668000</td>\n",
       "      <td>2.624000e+05</td>\n",
       "      <td>0.703000</td>\n",
       "      <td>0.000000</td>\n",
       "      <td>0.102000</td>\n",
       "      <td>8.000000</td>\n",
       "      <td>0.261000</td>\n",
       "      <td>-7.183000</td>\n",
       "      <td>1.000000</td>\n",
       "      <td>48.000000</td>\n",
       "      <td>0.075600</td>\n",
       "      <td>135.537000</td>\n",
       "    </tr>\n",
       "    <tr>\n",
       "      <th>max</th>\n",
       "      <td>1.000000</td>\n",
       "      <td>2020.000000</td>\n",
       "      <td>0.996000</td>\n",
       "      <td>0.988000</td>\n",
       "      <td>5.403500e+06</td>\n",
       "      <td>1.000000</td>\n",
       "      <td>1.000000</td>\n",
       "      <td>1.000000</td>\n",
       "      <td>11.000000</td>\n",
       "      <td>1.000000</td>\n",
       "      <td>3.855000</td>\n",
       "      <td>1.000000</td>\n",
       "      <td>100.000000</td>\n",
       "      <td>0.970000</td>\n",
       "      <td>243.507000</td>\n",
       "    </tr>\n",
       "  </tbody>\n",
       "</table>\n",
       "</div>"
      ],
      "text/plain": [
       "             valence           year   acousticness   danceability  \\\n",
       "count  170653.000000  170653.000000  170653.000000  170653.000000   \n",
       "mean        0.528587    1976.787241       0.502115       0.537396   \n",
       "std         0.263171      25.917853       0.376032       0.176138   \n",
       "min         0.000000    1921.000000       0.000000       0.000000   \n",
       "25%         0.317000    1956.000000       0.102000       0.415000   \n",
       "50%         0.540000    1977.000000       0.516000       0.548000   \n",
       "75%         0.747000    1999.000000       0.893000       0.668000   \n",
       "max         1.000000    2020.000000       0.996000       0.988000   \n",
       "\n",
       "        duration_ms         energy       explicit  instrumentalness  \\\n",
       "count  1.706530e+05  170653.000000  170653.000000     170653.000000   \n",
       "mean   2.309483e+05       0.482389       0.084575          0.167010   \n",
       "std    1.261184e+05       0.267646       0.278249          0.313475   \n",
       "min    5.108000e+03       0.000000       0.000000          0.000000   \n",
       "25%    1.698270e+05       0.255000       0.000000          0.000000   \n",
       "50%    2.074670e+05       0.471000       0.000000          0.000216   \n",
       "75%    2.624000e+05       0.703000       0.000000          0.102000   \n",
       "max    5.403500e+06       1.000000       1.000000          1.000000   \n",
       "\n",
       "                 key       liveness       loudness           mode  \\\n",
       "count  170653.000000  170653.000000  170653.000000  170653.000000   \n",
       "mean        5.199844       0.205839     -11.467990       0.706902   \n",
       "std         3.515094       0.174805       5.697943       0.455184   \n",
       "min         0.000000       0.000000     -60.000000       0.000000   \n",
       "25%         2.000000       0.098800     -14.615000       0.000000   \n",
       "50%         5.000000       0.136000     -10.580000       1.000000   \n",
       "75%         8.000000       0.261000      -7.183000       1.000000   \n",
       "max        11.000000       1.000000       3.855000       1.000000   \n",
       "\n",
       "          popularity    speechiness          tempo  \n",
       "count  170653.000000  170653.000000  170653.000000  \n",
       "mean       31.431794       0.098393     116.861590  \n",
       "std        21.826615       0.162740      30.708533  \n",
       "min         0.000000       0.000000       0.000000  \n",
       "25%        11.000000       0.034900      93.421000  \n",
       "50%        33.000000       0.045000     114.729000  \n",
       "75%        48.000000       0.075600     135.537000  \n",
       "max       100.000000       0.970000     243.507000  "
      ]
     },
     "execution_count": 3,
     "metadata": {},
     "output_type": "execute_result"
    }
   ],
   "source": [
    "df.info()\n",
    "df.describe()"
   ]
  },
  {
   "cell_type": "markdown",
   "metadata": {},
   "source": [
    "Insight:\n",
    "* Terdapat 170.653 data entri\n",
    "* Fitur `year` berkisar dari 1921 hingga 2020, menunjukkan distribusi lagu historis yang luas.\n",
    "* Nilai `duration_ms` bervariasi sangat besar, dari 5.100 ms hingga 5.403.500 ms.\n",
    "* Banyak fitur audio seperti `valence`, `danceability`, dan `energy` memiliki nilai antara 0–1, cocok untuk perhitungan similarity.\n",
    "* `loudness` punya rentang ekstrem, dari -60 dB hingga hampir 4 dB, perlu distandardisasi."
   ]
  },
  {
   "cell_type": "markdown",
   "metadata": {},
   "source": [
    "Melakukan pengecekan apakah dataset yang telah dipanggil, terdapat missing value atau tidak"
   ]
  },
  {
   "cell_type": "code",
   "execution_count": 4,
   "metadata": {
    "execution": {
     "iopub.execute_input": "2025-05-07T04:10:31.529237Z",
     "iopub.status.busy": "2025-05-07T04:10:31.528999Z",
     "iopub.status.idle": "2025-05-07T04:10:31.577963Z",
     "shell.execute_reply": "2025-05-07T04:10:31.577211Z",
     "shell.execute_reply.started": "2025-05-07T04:10:31.529220Z"
    },
    "trusted": true
   },
   "outputs": [
    {
     "name": "stdout",
     "output_type": "stream",
     "text": [
      "Jumlah missing value:\n"
     ]
    },
    {
     "data": {
      "text/plain": [
       "valence             0\n",
       "year                0\n",
       "acousticness        0\n",
       "artists             0\n",
       "danceability        0\n",
       "duration_ms         0\n",
       "energy              0\n",
       "explicit            0\n",
       "id                  0\n",
       "instrumentalness    0\n",
       "key                 0\n",
       "liveness            0\n",
       "loudness            0\n",
       "mode                0\n",
       "name                0\n",
       "popularity          0\n",
       "release_date        0\n",
       "speechiness         0\n",
       "tempo               0\n",
       "dtype: int64"
      ]
     },
     "execution_count": 4,
     "metadata": {},
     "output_type": "execute_result"
    }
   ],
   "source": [
    "print(\"Jumlah missing value:\")\n",
    "df.isnull().sum()"
   ]
  },
  {
   "cell_type": "markdown",
   "metadata": {},
   "source": [
    "Insight:\n",
    "* Tidak ditemukan missing value di seluruh kolom."
   ]
  },
  {
   "cell_type": "markdown",
   "metadata": {},
   "source": [
    "Mengecek pengecekan apakah dataset terdapat yang duplikat atau tidak "
   ]
  },
  {
   "cell_type": "code",
   "execution_count": 5,
   "metadata": {
    "execution": {
     "iopub.execute_input": "2025-05-07T04:10:31.579266Z",
     "iopub.status.busy": "2025-05-07T04:10:31.578723Z",
     "iopub.status.idle": "2025-05-07T04:10:31.734735Z",
     "shell.execute_reply": "2025-05-07T04:10:31.733912Z",
     "shell.execute_reply.started": "2025-05-07T04:10:31.579246Z"
    },
    "trusted": true
   },
   "outputs": [
    {
     "name": "stdout",
     "output_type": "stream",
     "text": [
      "Jumlah data duplikat: 0\n"
     ]
    }
   ],
   "source": [
    "print(\"Jumlah data duplikat:\", df.duplicated().sum())"
   ]
  },
  {
   "cell_type": "markdown",
   "metadata": {},
   "source": [
    "Insight:\n",
    "* Tidak ditemukan adanya data dupilkat"
   ]
  },
  {
   "cell_type": "code",
   "execution_count": 6,
   "metadata": {
    "execution": {
     "iopub.execute_input": "2025-05-07T04:10:31.735821Z",
     "iopub.status.busy": "2025-05-07T04:10:31.735567Z",
     "iopub.status.idle": "2025-05-07T04:10:31.754786Z",
     "shell.execute_reply": "2025-05-07T04:10:31.754059Z",
     "shell.execute_reply.started": "2025-05-07T04:10:31.735802Z"
    },
    "trusted": true
   },
   "outputs": [
    {
     "data": {
      "text/html": [
       "<div>\n",
       "<style scoped>\n",
       "    .dataframe tbody tr th:only-of-type {\n",
       "        vertical-align: middle;\n",
       "    }\n",
       "\n",
       "    .dataframe tbody tr th {\n",
       "        vertical-align: top;\n",
       "    }\n",
       "\n",
       "    .dataframe thead th {\n",
       "        text-align: right;\n",
       "    }\n",
       "</style>\n",
       "<table border=\"1\" class=\"dataframe\">\n",
       "  <thead>\n",
       "    <tr style=\"text-align: right;\">\n",
       "      <th></th>\n",
       "      <th>danceability</th>\n",
       "      <th>energy</th>\n",
       "      <th>key</th>\n",
       "      <th>loudness</th>\n",
       "      <th>mode</th>\n",
       "      <th>speechiness</th>\n",
       "      <th>acousticness</th>\n",
       "      <th>instrumentalness</th>\n",
       "      <th>liveness</th>\n",
       "      <th>valence</th>\n",
       "      <th>tempo</th>\n",
       "    </tr>\n",
       "  </thead>\n",
       "  <tbody>\n",
       "    <tr>\n",
       "      <th>0</th>\n",
       "      <td>0.279</td>\n",
       "      <td>0.211</td>\n",
       "      <td>10</td>\n",
       "      <td>-20.096</td>\n",
       "      <td>1</td>\n",
       "      <td>0.0366</td>\n",
       "      <td>0.982</td>\n",
       "      <td>0.878000</td>\n",
       "      <td>0.665</td>\n",
       "      <td>0.0594</td>\n",
       "      <td>80.954</td>\n",
       "    </tr>\n",
       "    <tr>\n",
       "      <th>1</th>\n",
       "      <td>0.819</td>\n",
       "      <td>0.341</td>\n",
       "      <td>7</td>\n",
       "      <td>-12.441</td>\n",
       "      <td>1</td>\n",
       "      <td>0.4150</td>\n",
       "      <td>0.732</td>\n",
       "      <td>0.000000</td>\n",
       "      <td>0.160</td>\n",
       "      <td>0.9630</td>\n",
       "      <td>60.936</td>\n",
       "    </tr>\n",
       "    <tr>\n",
       "      <th>2</th>\n",
       "      <td>0.328</td>\n",
       "      <td>0.166</td>\n",
       "      <td>3</td>\n",
       "      <td>-14.850</td>\n",
       "      <td>1</td>\n",
       "      <td>0.0339</td>\n",
       "      <td>0.961</td>\n",
       "      <td>0.913000</td>\n",
       "      <td>0.101</td>\n",
       "      <td>0.0394</td>\n",
       "      <td>110.339</td>\n",
       "    </tr>\n",
       "    <tr>\n",
       "      <th>3</th>\n",
       "      <td>0.275</td>\n",
       "      <td>0.309</td>\n",
       "      <td>5</td>\n",
       "      <td>-9.316</td>\n",
       "      <td>1</td>\n",
       "      <td>0.0354</td>\n",
       "      <td>0.967</td>\n",
       "      <td>0.000028</td>\n",
       "      <td>0.381</td>\n",
       "      <td>0.1650</td>\n",
       "      <td>100.109</td>\n",
       "    </tr>\n",
       "    <tr>\n",
       "      <th>4</th>\n",
       "      <td>0.418</td>\n",
       "      <td>0.193</td>\n",
       "      <td>3</td>\n",
       "      <td>-10.096</td>\n",
       "      <td>1</td>\n",
       "      <td>0.0380</td>\n",
       "      <td>0.957</td>\n",
       "      <td>0.000002</td>\n",
       "      <td>0.229</td>\n",
       "      <td>0.2530</td>\n",
       "      <td>101.665</td>\n",
       "    </tr>\n",
       "  </tbody>\n",
       "</table>\n",
       "</div>"
      ],
      "text/plain": [
       "   danceability  energy  key  loudness  mode  speechiness  acousticness  \\\n",
       "0         0.279   0.211   10   -20.096     1       0.0366         0.982   \n",
       "1         0.819   0.341    7   -12.441     1       0.4150         0.732   \n",
       "2         0.328   0.166    3   -14.850     1       0.0339         0.961   \n",
       "3         0.275   0.309    5    -9.316     1       0.0354         0.967   \n",
       "4         0.418   0.193    3   -10.096     1       0.0380         0.957   \n",
       "\n",
       "   instrumentalness  liveness  valence    tempo  \n",
       "0          0.878000     0.665   0.0594   80.954  \n",
       "1          0.000000     0.160   0.9630   60.936  \n",
       "2          0.913000     0.101   0.0394  110.339  \n",
       "3          0.000028     0.381   0.1650  100.109  \n",
       "4          0.000002     0.229   0.2530  101.665  "
      ]
     },
     "execution_count": 6,
     "metadata": {},
     "output_type": "execute_result"
    }
   ],
   "source": [
    "fitur_audio = [\n",
    "    'danceability',\n",
    "    'energy',\n",
    "    'key',\n",
    "    'loudness',\n",
    "    'mode',\n",
    "    'speechiness',\n",
    "    'acousticness',\n",
    "    'instrumentalness',\n",
    "    'liveness',\n",
    "    'valence',\n",
    "    'tempo'\n",
    "]\n",
    "\n",
    "df[fitur_audio].head()"
   ]
  },
  {
   "cell_type": "markdown",
   "metadata": {},
   "source": [
    "Insight:\n",
    "* Proses pemilihan fitur audio sudah memiliki format numerik, jadi siap untuk proses normalisasi."
   ]
  },
  {
   "cell_type": "markdown",
   "metadata": {},
   "source": [
    "Menampilkan kolom yang tersedia dalam dataset tetapi dalam bentuk list"
   ]
  },
  {
   "cell_type": "code",
   "execution_count": 7,
   "metadata": {
    "execution": {
     "iopub.execute_input": "2025-05-07T04:10:31.755853Z",
     "iopub.status.busy": "2025-05-07T04:10:31.755622Z",
     "iopub.status.idle": "2025-05-07T04:10:31.760102Z",
     "shell.execute_reply": "2025-05-07T04:10:31.759356Z",
     "shell.execute_reply.started": "2025-05-07T04:10:31.755832Z"
    },
    "trusted": true
   },
   "outputs": [
    {
     "name": "stdout",
     "output_type": "stream",
     "text": [
      "['valence', 'year', 'acousticness', 'artists', 'danceability', 'duration_ms', 'energy', 'explicit', 'id', 'instrumentalness', 'key', 'liveness', 'loudness', 'mode', 'name', 'popularity', 'release_date', 'speechiness', 'tempo']\n"
     ]
    }
   ],
   "source": [
    "print(df.columns.tolist())"
   ]
  },
  {
   "cell_type": "markdown",
   "metadata": {},
   "source": [
    "Insight: \n",
    "* Menampilkan kolom ke dalam bentuk list, agar mudah dilihat untuk proses selanjutnya"
   ]
  },
  {
   "cell_type": "markdown",
   "metadata": {},
   "source": [
    "# Data Preparation (Preprocessing)"
   ]
  },
  {
   "cell_type": "markdown",
   "metadata": {},
   "source": [
    "Dilakukan normalisasi fitur audio menggunakan MinMaxScaler agar berada dalam skala yang sama (0–1)"
   ]
  },
  {
   "cell_type": "code",
   "execution_count": 8,
   "metadata": {
    "execution": {
     "iopub.execute_input": "2025-05-07T04:10:31.761351Z",
     "iopub.status.busy": "2025-05-07T04:10:31.760830Z",
     "iopub.status.idle": "2025-05-07T04:10:31.836945Z",
     "shell.execute_reply": "2025-05-07T04:10:31.836139Z",
     "shell.execute_reply.started": "2025-05-07T04:10:31.761326Z"
    },
    "trusted": true
   },
   "outputs": [
    {
     "data": {
      "text/html": [
       "<div>\n",
       "<style scoped>\n",
       "    .dataframe tbody tr th:only-of-type {\n",
       "        vertical-align: middle;\n",
       "    }\n",
       "\n",
       "    .dataframe tbody tr th {\n",
       "        vertical-align: top;\n",
       "    }\n",
       "\n",
       "    .dataframe thead th {\n",
       "        text-align: right;\n",
       "    }\n",
       "</style>\n",
       "<table border=\"1\" class=\"dataframe\">\n",
       "  <thead>\n",
       "    <tr style=\"text-align: right;\">\n",
       "      <th></th>\n",
       "      <th>danceability</th>\n",
       "      <th>energy</th>\n",
       "      <th>key</th>\n",
       "      <th>loudness</th>\n",
       "      <th>mode</th>\n",
       "      <th>speechiness</th>\n",
       "      <th>acousticness</th>\n",
       "      <th>instrumentalness</th>\n",
       "      <th>liveness</th>\n",
       "      <th>valence</th>\n",
       "      <th>tempo</th>\n",
       "      <th>track_name</th>\n",
       "      <th>artist_name</th>\n",
       "    </tr>\n",
       "  </thead>\n",
       "  <tbody>\n",
       "    <tr>\n",
       "      <th>0</th>\n",
       "      <td>0.282389</td>\n",
       "      <td>0.211</td>\n",
       "      <td>0.909091</td>\n",
       "      <td>0.624916</td>\n",
       "      <td>1.0</td>\n",
       "      <td>0.037732</td>\n",
       "      <td>0.985944</td>\n",
       "      <td>0.878000</td>\n",
       "      <td>0.665</td>\n",
       "      <td>0.0594</td>\n",
       "      <td>0.332450</td>\n",
       "      <td>Piano Concerto No. 3 in D Minor, Op. 30: III. ...</td>\n",
       "      <td>['Sergei Rachmaninoff', 'James Levine', 'Berli...</td>\n",
       "    </tr>\n",
       "    <tr>\n",
       "      <th>1</th>\n",
       "      <td>0.828947</td>\n",
       "      <td>0.341</td>\n",
       "      <td>0.636364</td>\n",
       "      <td>0.744797</td>\n",
       "      <td>1.0</td>\n",
       "      <td>0.427835</td>\n",
       "      <td>0.734940</td>\n",
       "      <td>0.000000</td>\n",
       "      <td>0.160</td>\n",
       "      <td>0.9630</td>\n",
       "      <td>0.250243</td>\n",
       "      <td>Clancy Lowered the Boom</td>\n",
       "      <td>['Dennis Day']</td>\n",
       "    </tr>\n",
       "    <tr>\n",
       "      <th>2</th>\n",
       "      <td>0.331984</td>\n",
       "      <td>0.166</td>\n",
       "      <td>0.272727</td>\n",
       "      <td>0.707071</td>\n",
       "      <td>1.0</td>\n",
       "      <td>0.034948</td>\n",
       "      <td>0.964859</td>\n",
       "      <td>0.913000</td>\n",
       "      <td>0.101</td>\n",
       "      <td>0.0394</td>\n",
       "      <td>0.453125</td>\n",
       "      <td>Gati Bali</td>\n",
       "      <td>['KHP Kridhamardawa Karaton Ngayogyakarta Hadi...</td>\n",
       "    </tr>\n",
       "    <tr>\n",
       "      <th>3</th>\n",
       "      <td>0.278340</td>\n",
       "      <td>0.309</td>\n",
       "      <td>0.454545</td>\n",
       "      <td>0.793736</td>\n",
       "      <td>1.0</td>\n",
       "      <td>0.036495</td>\n",
       "      <td>0.970884</td>\n",
       "      <td>0.000028</td>\n",
       "      <td>0.381</td>\n",
       "      <td>0.1650</td>\n",
       "      <td>0.411113</td>\n",
       "      <td>Danny Boy</td>\n",
       "      <td>['Frank Parker']</td>\n",
       "    </tr>\n",
       "    <tr>\n",
       "      <th>4</th>\n",
       "      <td>0.423077</td>\n",
       "      <td>0.193</td>\n",
       "      <td>0.272727</td>\n",
       "      <td>0.781521</td>\n",
       "      <td>1.0</td>\n",
       "      <td>0.039175</td>\n",
       "      <td>0.960843</td>\n",
       "      <td>0.000002</td>\n",
       "      <td>0.229</td>\n",
       "      <td>0.2530</td>\n",
       "      <td>0.417503</td>\n",
       "      <td>When Irish Eyes Are Smiling</td>\n",
       "      <td>['Phil Regan']</td>\n",
       "    </tr>\n",
       "  </tbody>\n",
       "</table>\n",
       "</div>"
      ],
      "text/plain": [
       "   danceability  energy       key  loudness  mode  speechiness  acousticness  \\\n",
       "0      0.282389   0.211  0.909091  0.624916   1.0     0.037732      0.985944   \n",
       "1      0.828947   0.341  0.636364  0.744797   1.0     0.427835      0.734940   \n",
       "2      0.331984   0.166  0.272727  0.707071   1.0     0.034948      0.964859   \n",
       "3      0.278340   0.309  0.454545  0.793736   1.0     0.036495      0.970884   \n",
       "4      0.423077   0.193  0.272727  0.781521   1.0     0.039175      0.960843   \n",
       "\n",
       "   instrumentalness  liveness  valence     tempo  \\\n",
       "0          0.878000     0.665   0.0594  0.332450   \n",
       "1          0.000000     0.160   0.9630  0.250243   \n",
       "2          0.913000     0.101   0.0394  0.453125   \n",
       "3          0.000028     0.381   0.1650  0.411113   \n",
       "4          0.000002     0.229   0.2530  0.417503   \n",
       "\n",
       "                                          track_name  \\\n",
       "0  Piano Concerto No. 3 in D Minor, Op. 30: III. ...   \n",
       "1                            Clancy Lowered the Boom   \n",
       "2                                          Gati Bali   \n",
       "3                                          Danny Boy   \n",
       "4                        When Irish Eyes Are Smiling   \n",
       "\n",
       "                                         artist_name  \n",
       "0  ['Sergei Rachmaninoff', 'James Levine', 'Berli...  \n",
       "1                                     ['Dennis Day']  \n",
       "2  ['KHP Kridhamardawa Karaton Ngayogyakarta Hadi...  \n",
       "3                                   ['Frank Parker']  \n",
       "4                                     ['Phil Regan']  "
      ]
     },
     "execution_count": 8,
     "metadata": {},
     "output_type": "execute_result"
    }
   ],
   "source": [
    "scaler = MinMaxScaler()\n",
    "audio_scaled = scaler.fit_transform(df[fitur_audio])\n",
    "\n",
    "df_scaled = pd.DataFrame(audio_scaled, columns=fitur_audio)\n",
    "\n",
    "df_scaled['track_name'] = df['name']\n",
    "df_scaled['artist_name'] = df['artists']\n",
    "\n",
    "df_scaled.head()"
   ]
  },
  {
   "cell_type": "markdown",
   "metadata": {},
   "source": [
    "Insight:\n",
    "* Hasil dari scalling tersebut akan digabung dengan nama lagu dan artis untuk referensi output dari sistem rekomendasi."
   ]
  },
  {
   "cell_type": "markdown",
   "metadata": {},
   "source": [
    "# Modelling"
   ]
  },
  {
   "cell_type": "code",
   "execution_count": 9,
   "metadata": {
    "execution": {
     "iopub.execute_input": "2025-05-07T04:10:31.838111Z",
     "iopub.status.busy": "2025-05-07T04:10:31.837825Z",
     "iopub.status.idle": "2025-05-07T04:10:32.461364Z",
     "shell.execute_reply": "2025-05-07T04:10:32.460456Z",
     "shell.execute_reply.started": "2025-05-07T04:10:31.838087Z"
    },
    "trusted": true
   },
   "outputs": [
    {
     "data": {
      "text/plain": [
       "track_name\n",
       "Plantation Inn           0.993444\n",
       "Partido Alto             0.989180\n",
       "Comin' Home Baby         0.988744\n",
       "We've Only Just Begun    0.988714\n",
       "Lady Be Good             0.988427\n",
       "Name: Camby Bolongo, dtype: float64"
      ]
     },
     "execution_count": 9,
     "metadata": {},
     "output_type": "execute_result"
    }
   ],
   "source": [
    "df_sample = df_scaled.sample(n=10000, random_state=42)\n",
    "\n",
    "similarity_matrix = cosine_similarity(df_sample[fitur_audio])\n",
    "\n",
    "similarity_df = pd.DataFrame(similarity_matrix, \n",
    "                             index=df_sample['track_name'], \n",
    "                             columns=df_sample['track_name'])\n",
    "\n",
    "similarity_df.iloc[0].sort_values(ascending=False)[1:6]"
   ]
  },
  {
   "cell_type": "markdown",
   "metadata": {},
   "source": [
    "Insight: \n",
    "* Dilakukan pengambilan sampel sebanyak 10.000 lagu untuk efisiensi perhitungan cosine similarity (serta menghindari data loading yang terlalu lama). Kemudian dibentuk similarity matrix antar lagu menggunakan fitur audio, dan ditampilkan 5 lagu teratas yang paling mirip dengan lagu pertama di dataset berdasarkan nilai similirarity tertinggi."
   ]
  },
  {
   "cell_type": "code",
   "execution_count": 17,
   "metadata": {
    "execution": {
     "iopub.execute_input": "2025-05-07T04:24:32.250997Z",
     "iopub.status.busy": "2025-05-07T04:24:32.250108Z",
     "iopub.status.idle": "2025-05-07T04:24:32.256174Z",
     "shell.execute_reply": "2025-05-07T04:24:32.255389Z",
     "shell.execute_reply.started": "2025-05-07T04:24:32.250962Z"
    },
    "trusted": true
   },
   "outputs": [],
   "source": [
    "def rekomendasi_lagu(judul_lagu, df_similar, jumlah=5):\n",
    "    if judul_lagu not in df_similar.columns:\n",
    "        return f\"Lagu '{judul_lagu}' tidak ditemukan dalam dataset.\"\n",
    "\n",
    "    similar_songs = df_similar[judul_lagu].sort_values(ascending=False).iloc[1:jumlah+1]\n",
    "\n",
    "    hasil_df = pd.DataFrame({\n",
    "        'Track Name': similar_songs.index,\n",
    "        'Similarity Score': similar_songs.values\n",
    "    })\n",
    "\n",
    "    return hasil_df\n",
    "\n",
    "\n",
    "def evaluasi_lagu(list_judul, df_similar):\n",
    "    for judul in list_judul:\n",
    "        print(f\"\\nJudul: {judul}\")\n",
    "        hasil = rekomendasi_lagu(judul, df_similar)\n",
    "        if isinstance(hasil, str):\n",
    "            print(\"tidak ada\", hasil)\n",
    "        else:\n",
    "            print(\"Rekomendasi lagu yang sama:\")\n",
    "            print(hasil)\n"
   ]
  },
  {
   "cell_type": "markdown",
   "metadata": {},
   "source": [
    "Insight:\n",
    "* Pada cell diatas dibuat dua fungsi modular, yaitu `rekomendasi_lagu()` untuk menghasilkan tabel rekomendasi berdasarkan lagu input, dan `evaluasi_lagu()` untuk menguji beberapa lagu sekaligus serta menangani kondisi jika lagu tidak ditemukan."
   ]
  },
  {
   "cell_type": "markdown",
   "metadata": {},
   "source": [
    "# Evaluasi (Testing)"
   ]
  },
  {
   "cell_type": "code",
   "execution_count": 18,
   "metadata": {
    "execution": {
     "iopub.execute_input": "2025-05-07T04:24:34.789424Z",
     "iopub.status.busy": "2025-05-07T04:24:34.789131Z",
     "iopub.status.idle": "2025-05-07T04:24:34.815429Z",
     "shell.execute_reply": "2025-05-07T04:24:34.814862Z",
     "shell.execute_reply.started": "2025-05-07T04:24:34.789403Z"
    },
    "trusted": true
   },
   "outputs": [
    {
     "name": "stdout",
     "output_type": "stream",
     "text": [
      "\n",
      "Judul: Camby Bolongo\n",
      "Rekomendasi lagu yang sama:\n",
      "              Track Name  Similarity Score\n",
      "0         Plantation Inn          0.993444\n",
      "1           Partido Alto          0.989180\n",
      "2       Comin' Home Baby          0.988744\n",
      "3  We've Only Just Begun          0.988714\n",
      "4           Lady Be Good          0.988427\n",
      "\n",
      "Judul: Castle on a Cloud\n",
      "Rekomendasi lagu yang sama:\n",
      "                        Track Name  Similarity Score\n",
      "0         Do Dilon Ko Ek Dil Milke          0.997710\n",
      "1            Jab Dard Ka Kissa Ham          0.994526\n",
      "2                     Just in Time          0.993195\n",
      "3  5 Mélodies, Op.58: 1. Mandoline          0.992134\n",
      "4         Amado mio (from \"Gilda\")          0.991574\n",
      "\n",
      "Judul: Someone Like You\n",
      "tidak ada Lagu 'Someone Like You' tidak ditemukan dalam dataset.\n",
      "\n",
      "Judul: Eso Hey Sajal Shyam Ghana Deya\n",
      "Rekomendasi lagu yang sama:\n",
      "                                  Track Name  Similarity Score\n",
      "0                      Jimmy Loves Mary-Anne          0.992807\n",
      "1                                   Monterey          0.990466\n",
      "2                       La Cabeza del Lechon          0.990065\n",
      "3  Something Makes Me Want To Dance With You          0.989601\n",
      "4          You Don't Have to Say You Love Me          0.987710\n",
      "\n",
      "Judul: Bohemian Rhapsody\n",
      "tidak ada Lagu 'Bohemian Rhapsody' tidak ditemukan dalam dataset.\n"
     ]
    }
   ],
   "source": [
    "lagu_uji = [\n",
    "    'Camby Bolongo',\n",
    "    'Castle on a Cloud',\n",
    "    'Someone Like You',\n",
    "    'Eso Hey Sajal Shyam Ghana Deya',\n",
    "    'Bohemian Rhapsody'\n",
    "]\n",
    "\n",
    "evaluasi_lagu(lagu_uji, similarity_df)\n"
   ]
  },
  {
   "cell_type": "markdown",
   "metadata": {},
   "source": [
    "Insight:\n",
    "* Evaluasi dilakukan dengan menguji beberapa lagu untuk melihat rekomendasi yang diberikan sistem. Lagu yang ditemukan menghasilkan daftar lagu serupa berdasarkan similarity score, sedangkan lagu yang tidak ditemukan ditangani dengan error handling yang sesuai (Tidak Ditemukan)."
   ]
  },
  {
   "cell_type": "markdown",
   "metadata": {},
   "source": [
    "# Visualisasi Hasil Model"
   ]
  },
  {
   "cell_type": "markdown",
   "metadata": {},
   "source": [
    "Akan dibuat visualisasi heatmap dengan tujuan menampilkan tingkat kemiripan antar lagu dalam subset berdasarkan skor cosine similarity.\n"
   ]
  },
  {
   "cell_type": "code",
   "execution_count": 20,
   "metadata": {
    "execution": {
     "iopub.execute_input": "2025-05-07T04:26:47.187125Z",
     "iopub.status.busy": "2025-05-07T04:26:47.186565Z",
     "iopub.status.idle": "2025-05-07T04:26:47.567092Z",
     "shell.execute_reply": "2025-05-07T04:26:47.566352Z",
     "shell.execute_reply.started": "2025-05-07T04:26:47.187098Z"
    },
    "trusted": true
   },
   "outputs": [
    {
     "data": {
      "image/png": "[encoded data removed]",
      "text/plain": [
       "<Figure size 1000x800 with 2 Axes>"
      ]
     },
     "metadata": {},
     "output_type": "display_data"
    }
   ],
   "source": [
    "# Heatmap\n",
    "subset = similarity_df.iloc[:10, :10]\n",
    "\n",
    "plt.figure(figsize=(10, 8))\n",
    "sns.heatmap(subset, annot=False, cmap=\"YlGnBu\")\n",
    "plt.title('Cosine Similarity antar Lagu (Subset)')\n",
    "plt.show()"
   ]
  },
  {
   "cell_type": "markdown",
   "metadata": {},
   "source": [
    "Insight:\n",
    "* Heatmap menunjukkan pola kemiripan antar lagu dalam subset, warna biru tua menandakan similarity tinggi, yang mengindikasikan keberhasilan model dalam mengelompokkan lagu dengan karakteristik audio serupa dan warna menuju kuning menandakan lagu yang tidak mirip sama sekali (similirarity score kecil)."
   ]
  },
  {
   "cell_type": "markdown",
   "metadata": {},
   "source": [
    "Visualisasi PCA digunakan untuk memproyeksikan lagu-lagu ke dalam 2 dimensi agar distribusi dan pengelompokan berdasarkan fitur audio lebih mudah diamati."
   ]
  },
  {
   "cell_type": "code",
   "execution_count": 22,
   "metadata": {
    "execution": {
     "iopub.execute_input": "2025-05-07T04:27:54.948233Z",
     "iopub.status.busy": "2025-05-07T04:27:54.947456Z",
     "iopub.status.idle": "2025-05-07T04:27:55.253129Z",
     "shell.execute_reply": "2025-05-07T04:27:55.252432Z",
     "shell.execute_reply.started": "2025-05-07T04:27:54.948209Z"
    },
    "trusted": true
   },
   "outputs": [
    {
     "data": {
      "image/png": "[encoded data removed]",
      "text/plain": [
       "<Figure size 1000x600 with 1 Axes>"
      ]
     },
     "metadata": {},
     "output_type": "display_data"
    }
   ],
   "source": [
    "# 2D Projection\n",
    "pca = PCA(n_components=2)\n",
    "pca_result = pca.fit_transform(df_sample[fitur_audio])\n",
    "\n",
    "plt.figure(figsize=(10, 6))\n",
    "plt.scatter(pca_result[:, 0], pca_result[:, 1], alpha=0.5)\n",
    "plt.title('Distribusi Lagu Berdasarkan Fitur Audio')\n",
    "plt.xlabel('PC 1')\n",
    "plt.ylabel('PC 2')\n",
    "plt.show()"
   ]
  },
  {
   "cell_type": "markdown",
   "metadata": {},
   "source": [
    "Insight:\n",
    "* Hasil PCA menunjukkan bahwa lagu-lagu dengan fitur audio serupa cenderung membentuk dua klaster dominan, yang mengindikasikan adanya pengelompokan alami berdasarkan karakteristik musiknya."
   ]
  }
 ],
 "metadata": {
  "kaggle": {
   "accelerator": "gpu",
   "dataSources": [
    {
     "datasetId": 6436381,
     "sourceId": 10389016,
     "sourceType": "datasetVersion"
    }
   ],
   "dockerImageVersionId": 31011,
   "isGpuEnabled": true,
   "isInternetEnabled": true,
   "language": "python",
   "sourceType": "notebook"
  },
  "kernelspec": {
   "display_name": "Python 3",
   "language": "python",
   "name": "python3"
  },
  "language_info": {
   "codemirror_mode": {
    "name": "ipython",
    "version": 3
   },
   "file_extension": ".py",
   "mimetype": "text/x-python",
   "name": "python",
   "nbconvert_exporter": "python",
   "pygments_lexer": "ipython3",
   "version": "3.11.11"
  }
 },
 "nbformat": 4,
 "nbformat_minor": 4
}
